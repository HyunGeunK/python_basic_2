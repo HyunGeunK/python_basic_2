{
 "cells": [
  {
   "cell_type": "markdown",
   "metadata": {},
   "source": [
    "2. [코딩문제] 다음은 Pandas의 피봇 테이블 pivot_table() 함수를 활용하여 주어진 데이터프\n",
    "레임 “df” 을 집계하고 분석하는 코딩 문제이다."
   ]
  },
  {
   "cell_type": "code",
   "execution_count": 4,
   "metadata": {},
   "outputs": [
    {
     "name": "stdout",
     "output_type": "stream",
     "text": [
      "각 제품(Product)별로 판매된 총 수량(Quantity):\n",
      "         Quantity\n",
      "Product          \n",
      "A              20\n",
      "B              35\n",
      "\n",
      "각 고객(CustomerID)이 구매한 제품(Product)별 총 수량(Quantity):\n",
      "Product      A   B\n",
      "CustomerID        \n",
      "C1          10   0\n",
      "C2           0  15\n",
      "C3          10   0\n",
      "C4           0  20\n",
      "\n",
      "각 제품(Product)별로 평균 구매 수량(Quantity):\n",
      "         Quantity\n",
      "Product          \n",
      "A            10.0\n",
      "B            17.5\n"
     ]
    },
    {
     "data": {
      "text/html": [
       "<div>\n",
       "<style scoped>\n",
       "    .dataframe tbody tr th:only-of-type {\n",
       "        vertical-align: middle;\n",
       "    }\n",
       "\n",
       "    .dataframe tbody tr th {\n",
       "        vertical-align: top;\n",
       "    }\n",
       "\n",
       "    .dataframe thead th {\n",
       "        text-align: right;\n",
       "    }\n",
       "</style>\n",
       "<table border=\"1\" class=\"dataframe\">\n",
       "  <thead>\n",
       "    <tr style=\"text-align: right;\">\n",
       "      <th></th>\n",
       "      <th>CustomerID</th>\n",
       "      <th>Product</th>\n",
       "      <th>Quantity</th>\n",
       "    </tr>\n",
       "  </thead>\n",
       "  <tbody>\n",
       "    <tr>\n",
       "      <th>0</th>\n",
       "      <td>C1</td>\n",
       "      <td>A</td>\n",
       "      <td>10</td>\n",
       "    </tr>\n",
       "    <tr>\n",
       "      <th>1</th>\n",
       "      <td>C2</td>\n",
       "      <td>B</td>\n",
       "      <td>15</td>\n",
       "    </tr>\n",
       "    <tr>\n",
       "      <th>2</th>\n",
       "      <td>C3</td>\n",
       "      <td>A</td>\n",
       "      <td>10</td>\n",
       "    </tr>\n",
       "    <tr>\n",
       "      <th>3</th>\n",
       "      <td>C4</td>\n",
       "      <td>B</td>\n",
       "      <td>20</td>\n",
       "    </tr>\n",
       "  </tbody>\n",
       "</table>\n",
       "</div>"
      ],
      "text/plain": [
       "  CustomerID Product  Quantity\n",
       "0         C1       A        10\n",
       "1         C2       B        15\n",
       "2         C3       A        10\n",
       "3         C4       B        20"
      ]
     },
     "execution_count": 4,
     "metadata": {},
     "output_type": "execute_result"
    }
   ],
   "source": [
    "#(2-1) 각 제품(Product)별로 판매된 총 수량(Quantity)을 계산하여 그 결과를 출력하시오.\n",
    "\n",
    "import pandas as pd\n",
    "\n",
    "# 데이터프레임 생성\n",
    "data = {\n",
    "    'CustomerID': ['C1', 'C2', 'C3', 'C4'],\n",
    "    'Product': ['A', 'B', 'A', 'B'],\n",
    "    'Quantity': [10, 15, 10, 20]\n",
    "}\n",
    "df = pd.DataFrame(data)\n",
    "\n",
    "# (2-1) 각 제품(Product)별로 판매된 총 수량(Quantity)을 계산하여 그 결과를 출력\n",
    "product_total_quantity = df.pivot_table(values='Quantity', index='Product', aggfunc='sum')\n",
    "print(\"각 제품(Product)별로 판매된 총 수량(Quantity):\")\n",
    "print(product_total_quantity)\n",
    "\n",
    "# (2-2) 각 고객(CustomerID)이 구매한 제품(Product)별 총 수량(Quantity)을 구하고, 그 결과를 출력\n",
    "customer_product_quantity = df.pivot_table(values='Quantity', index='CustomerID', columns='Product', aggfunc='sum', fill_value=0)\n",
    "print(\"\\n각 고객(CustomerID)이 구매한 제품(Product)별 총 수량(Quantity):\")\n",
    "print(customer_product_quantity)\n",
    "\n",
    "# (2-3) 각 제품(Product)별로 평균 구매 수량(Quantity)을 계산하여 그 결과를 출력\n",
    "product_average_quantity = df.pivot_table(values='Quantity', index='Product', aggfunc='mean')\n",
    "print(\"\\n각 제품(Product)별로 평균 구매 수량(Quantity):\")\n",
    "print(product_average_quantity)\n",
    "\n",
    "df"
   ]
  },
  {
   "cell_type": "code",
   "execution_count": 14,
   "metadata": {},
   "outputs": [
    {
     "name": "stdout",
     "output_type": "stream",
     "text": [
      "         Quantity\n",
      "Product          \n",
      "A              20\n",
      "B              35\n"
     ]
    }
   ],
   "source": [
    "# (2-1) 각 제품(Product)별로 판매된 총 수량(Quantity)을 계산하여 그 결과를 출력\n",
    "import pandas as pd\n",
    "\n",
    "# 데이터프레임 생성\n",
    "data = {\n",
    "    'CustomerID': ['C1', 'C2', 'C3', 'C4'],\n",
    "    'Product': ['A', 'B', 'A', 'B'],\n",
    "    'Quantity': [10, 15, 10, 20]\n",
    "}\n",
    "df = pd.DataFrame(data)\n",
    "\n",
    "data = df.pivot_table(values='Quantity', index='Product', aggfunc='sum')\n",
    "print(data)\n"
   ]
  },
  {
   "cell_type": "code",
   "execution_count": 17,
   "metadata": {},
   "outputs": [
    {
     "name": "stdout",
     "output_type": "stream",
     "text": [
      "Product      A   B\n",
      "CustomerID        \n",
      "C1          10   0\n",
      "C2           0  15\n",
      "C3          10   0\n",
      "C4           0  20\n"
     ]
    }
   ],
   "source": [
    "import pandas as pd\n",
    "\n",
    "# 데이터프레임 생성\n",
    "data = {\n",
    "    'CustomerID': ['C1', 'C2', 'C3', 'C4'],\n",
    "    'Product': ['A', 'B', 'A', 'B'],\n",
    "    'Quantity': [10, 15, 10, 20]\n",
    "}\n",
    "df = pd.DataFrame(data)\n",
    "\n",
    "# (2-2) 각 고객(CustomerID)이 구매한 제품(Product)별 총 수량(Quantity)을 구하고, 그 결과를 출력\n",
    "data = df.pivot_table(values='Quantity', index='CustomerID', columns='Product', aggfunc='sum', fill_value=0)\n",
    "print(data)"
   ]
  },
  {
   "cell_type": "code",
   "execution_count": 19,
   "metadata": {},
   "outputs": [
    {
     "name": "stdout",
     "output_type": "stream",
     "text": [
      "   도시          날짜  최고 온도  최저 온도\n",
      "3  광주  2024-06-01     29     19\n",
      "2  대구  2024-06-01     32     21\n",
      "1  서울  2024-06-02     30     20\n"
     ]
    }
   ],
   "source": [
    "import pandas as pd\n",
    "\n",
    "# 데이터프레임 생성\n",
    "data = {\n",
    "    '도시': ['서울', '서울', '대구', '광주'],\n",
    "    '날짜': ['2024-06-01', '2024-06-02', '2024-06-01', '2024-06-01'],\n",
    "    '최고 온도': [28, 30, 32, 29],\n",
    "    '최저 온도': [18, 20, 21, 19]\n",
    "}\n",
    "df = pd.DataFrame(data)\n",
    "\n",
    "# 각 도시에서 최고 온도가 가장 높은 날짜 찾기\n",
    "result = df.loc[df.groupby('도시')['최고 온도'].idxmax()]\n",
    "\n",
    "print(result)"
   ]
  },
  {
   "cell_type": "code",
   "execution_count": 24,
   "metadata": {},
   "outputs": [
    {
     "name": "stdout",
     "output_type": "stream",
     "text": [
      "           날짜   종가\n",
      "0  2024-06-01  100\n",
      "1  2024-06-02  102\n",
      "2  2024-06-03  101\n",
      "3  2024-06-04  105\n",
      "4  2024-06-05  107\n",
      "             종가  2일 이동 합계\n",
      "날짜                       \n",
      "2024-06-01  100       NaN\n",
      "2024-06-02  102     202.0\n",
      "2024-06-03  101     203.0\n",
      "2024-06-04  105     206.0\n",
      "2024-06-05  107     212.0\n"
     ]
    }
   ],
   "source": [
    "import pandas as pd\n",
    "\n",
    "# 주어진 데이터프레임\n",
    "data = {\n",
    "    '날짜': ['2024-06-01', '2024-06-02', '2024-06-03', '2024-06-04', '2024-06-05'],\n",
    "    '종가': [100, 102, 101, 105, 107]\n",
    "}\n",
    "df = pd.DataFrame(data)\n",
    "\n",
    "# '날짜' 열의 데이터를 datetime 형식으로 변환\n",
    "df['날짜'] = pd.to_datetime(df['날짜'])  # (①)\n",
    "\n",
    "# '날짜' 열을 데이터프레임 df의 인덱스로 설정\n",
    "df.set_index('날짜', inplace=True)  # (②)\n",
    "\n",
    "# 2일 이동 합계 계산하여 새로운 열 '2일 이동 합계'로 데이터프레임 df에 추가\n",
    "df['2일 이동 합계'] = df['종가'].rolling(window=2).sum()  # (③)\n",
    "\n",
    "# 최종 데이터프레임 출력\n",
    "print(df) # (④)\n"
   ]
  },
  {
   "cell_type": "code",
   "execution_count": 26,
   "metadata": {},
   "outputs": [
    {
     "name": "stdout",
     "output_type": "stream",
     "text": [
      "  City     대구     서울     인천\n",
      "0   서울  False   True  False\n",
      "1   대구   True  False  False\n",
      "2   인천  False  False   True\n",
      "3   서울  False   True  False\n",
      "4   대구   True  False  False\n",
      "5   서울  False   True  False\n"
     ]
    }
   ],
   "source": [
    "import pandas as pd\n",
    "cities = ['서울', '대구', '인천', '서울', '대구', '서울']\n",
    "df = pd.DataFrame(cities, columns=['City'])\n",
    "encoded = pd.get_dummies(df['City'])\n",
    "df_encoded = pd.concat([df, encoded], axis=1)\n",
    "print(df_encoded) "
   ]
  },
  {
   "cell_type": "code",
   "execution_count": 35,
   "metadata": {},
   "outputs": [
    {
     "name": "stdout",
     "output_type": "stream",
     "text": [
      "                    Quantity\n",
      "CustomerID Product          \n",
      "C1         A              10\n",
      "C2         B              15\n",
      "C3         A              10\n",
      "C4         B              20\n",
      "CustomerID  Product          \n",
      "C1          A        Quantity    10\n",
      "C2          B        Quantity    15\n",
      "C3          A        Quantity    10\n",
      "C4          B        Quantity    20\n",
      "dtype: int64\n",
      "  CustomerID Product   level_2  Quantity\n",
      "0         C1       A  Quantity        10\n",
      "1         C2       B  Quantity        15\n",
      "2         C3       A  Quantity        10\n",
      "3         C4       B  Quantity        20\n"
     ]
    },
    {
     "data": {
      "text/html": [
       "<div>\n",
       "<style scoped>\n",
       "    .dataframe tbody tr th:only-of-type {\n",
       "        vertical-align: middle;\n",
       "    }\n",
       "\n",
       "    .dataframe tbody tr th {\n",
       "        vertical-align: top;\n",
       "    }\n",
       "\n",
       "    .dataframe thead th {\n",
       "        text-align: right;\n",
       "    }\n",
       "</style>\n",
       "<table border=\"1\" class=\"dataframe\">\n",
       "  <thead>\n",
       "    <tr style=\"text-align: right;\">\n",
       "      <th></th>\n",
       "      <th></th>\n",
       "      <th>level_2</th>\n",
       "      <th>Quantity</th>\n",
       "    </tr>\n",
       "    <tr>\n",
       "      <th>CustomerID</th>\n",
       "      <th>Product</th>\n",
       "      <th></th>\n",
       "      <th></th>\n",
       "    </tr>\n",
       "  </thead>\n",
       "  <tbody>\n",
       "    <tr>\n",
       "      <th>C1</th>\n",
       "      <th>A</th>\n",
       "      <td>Quantity</td>\n",
       "      <td>10</td>\n",
       "    </tr>\n",
       "    <tr>\n",
       "      <th>C2</th>\n",
       "      <th>B</th>\n",
       "      <td>Quantity</td>\n",
       "      <td>15</td>\n",
       "    </tr>\n",
       "    <tr>\n",
       "      <th>C3</th>\n",
       "      <th>A</th>\n",
       "      <td>Quantity</td>\n",
       "      <td>10</td>\n",
       "    </tr>\n",
       "    <tr>\n",
       "      <th>C4</th>\n",
       "      <th>B</th>\n",
       "      <td>Quantity</td>\n",
       "      <td>20</td>\n",
       "    </tr>\n",
       "  </tbody>\n",
       "</table>\n",
       "</div>"
      ],
      "text/plain": [
       "                     level_2  Quantity\n",
       "CustomerID Product                    \n",
       "C1         A        Quantity        10\n",
       "C2         B        Quantity        15\n",
       "C3         A        Quantity        10\n",
       "C4         B        Quantity        20"
      ]
     },
     "execution_count": 35,
     "metadata": {},
     "output_type": "execute_result"
    }
   ],
   "source": [
    "import pandas as pd\n",
    "\n",
    "# 주어진 데이터프레임 생성\n",
    "data = {\n",
    "    'OrderID': [1, 2, 3, 4],\n",
    "    'CustomerID': ['C1', 'C2', 'C3', 'C4'],\n",
    "    'Product': ['A', 'B', 'A', 'B'],\n",
    "    'Quantity': [10, 15, 10, 20]\n",
    "}\n",
    "df = pd.DataFrame(data)\n",
    "\n",
    "# pivot_table을 사용하여 CustomerID와 Product별 총 구매 수량 계산\n",
    "pivot_df = df.pivot_table(index=['CustomerID', 'Product'], values='Quantity', aggfunc='sum')\n",
    "print(pivot_df)\n",
    "# stack을 사용하여 MultiIndex Series로 변환\n",
    "stacked_series = pivot_df.stack()\n",
    "print(stacked_series)\n",
    "# MultiIndex Series를 데이터프레임으로 변환\n",
    "result_df = stacked_series.reset_index(name='Quantity')\n",
    "print(result_df)\n",
    "# CustomerID와 Product를 MultiIndex로 설정\n",
    "result_df.set_index(['CustomerID', 'Product'], inplace=True)\n",
    "\n",
    "result_df\n",
    "\n"
   ]
  }
 ],
 "metadata": {
  "kernelspec": {
   "display_name": "venv",
   "language": "python",
   "name": "python3"
  },
  "language_info": {
   "codemirror_mode": {
    "name": "ipython",
    "version": 3
   },
   "file_extension": ".py",
   "mimetype": "text/x-python",
   "name": "python",
   "nbconvert_exporter": "python",
   "pygments_lexer": "ipython3",
   "version": "3.12.3"
  }
 },
 "nbformat": 4,
 "nbformat_minor": 2
}
