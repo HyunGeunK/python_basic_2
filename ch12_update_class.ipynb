{
 "cells": [
  {
   "cell_type": "code",
   "execution_count": 1,
   "metadata": {
    "executionInfo": {
     "elapsed": 1776,
     "status": "ok",
     "timestamp": 1715637504099,
     "user": {
      "displayName": "김유희",
      "userId": "00390714496880607784"
     },
     "user_tz": -540
    },
    "id": "aBCNnkdfGfrW"
   },
   "outputs": [],
   "source": [
    "import numpy as np\n",
    "import pandas as pd\n",
    "np.random.seed(12345)\n",
    "import matplotlib.pyplot as plt"
   ]
  },
  {
   "cell_type": "code",
   "execution_count": null,
   "metadata": {
    "id": "UDXjVkU-Hl2N"
   },
   "outputs": [],
   "source": []
  },
  {
   "cell_type": "markdown",
   "metadata": {
    "id": "9xjMlgLlGonn"
   },
   "source": [
    "# 12장 파이썬 모델링 라이브러리\n",
    "* 모델 fitting\n",
    "* 모델 scoring\n",
    "* 데이터 cleaning\n",
    "* 모델링 도구\n",
    "  * statsmodels\n",
    "    * https://www.statsmodels.org/stable/index.html\n",
    "  * scikit-learn(사이킷런)\n",
    "    * https://scikit-learn.org/stable"
   ]
  },
  {
   "cell_type": "markdown",
   "metadata": {
    "id": "nOoe49rBITKr"
   },
   "source": [
    "## 12.1 판다스와 모델 코드의 인터페이스\n",
    "* 모델 개발 과정\n",
    "\n",
    "1. 데이터 로딩: 판다스를 사용하여 데이터를 로드하고 데이터프레임으로 변환\n",
    "\n",
    "2. 데이터 전처리: 판다스를 사용하여 데이터를 전처리\n",
    "  * 피처 엔지니어링(feature engineering)\n",
    "    \n",
    "3. 모델 훈련: 판다스 데이터프레임을 모델 훈련에 사용\n",
    "\n",
    "4. 모델 평가: 판다스를 사용하여 모델 성능을 평가\n",
    "\n",
    "5. 모델 예측: 판다스 데이터프레임을 사용하여 모델 예측\n"
   ]
  },
  {
   "cell_type": "markdown",
   "metadata": {
    "id": "FAEEbLihNkXk"
   },
   "source": [
    "### feature engineering\n",
    "* 기계 학습 모델의 성능을 향상시키기 위해 데이터의 원시 특징을 변환하는 프로세스\n",
    "* 데이터를 더욱 정보량이 풍부하고 예측하기 쉽게 만드는 데 도움이 됨\n",
    "* 피처 엔지니어링 기술\n",
    "  * 결측값 처리: 결측값은 모델 성능에 부정적인 영향을 줌\n",
    "    * 결측값을 평균, 중앙값 또는 최빈값으로 대체\n",
    "    * 결측값을 포함하는 행을 삭제\n",
    "      \n",
    "  * 이상치 처리: 이상치는 모델 성능에 부정적인 영향을 줌\n",
    "    * 이상치를 처리하는 방법\n",
    "      * 이상치를 제거\n",
    "      * 이상치를 변환\n",
    "\n",
    "  * 피처 스케일링: 피처 스케일링은 모든 피처가 동일한 범위에 있도록 보장\n",
    "    * 모델이 모든 피처에 동일한 가중치를 부여하는 데 도움\n",
    "    * 피처 스케일링 기술\n",
    "      * 표준화: 피처의 평균을 0, 표준 편차를 1로 조정\n",
    "      * 정규화: 피처의 값이 0 과 1 사이에 있도록 조정\n",
    "\n",
    "  * 피처 변환: 피처 변환은 피처의 분포를 변경\n",
    "    * 이는 모델이 피처 간의 관계를 더 잘 학습하는 데 도움\n",
    "    * 피처 변환 기술\n",
    "      * 로그 변환: 피처의 값을 로그로 변환\n",
    "      * 제곱근 변환: 피처의 값을 제곱근으로 변환\n",
    "      \n",
    "  * 피처 선택: 피처 선택은 모델에 사용할 피처를 선택\n",
    "    * 이는 모델의 성능을 향상시키고 과적합을 줄이는 데 도움이 됨\n",
    "      * 상관 관계 분석: 상관 관계가 높은 피처를 제거\n",
    "      * 통계적 유의성 검정: 통계적으로 유의미하지 않은 피처를 제거\n",
    "      * 머신 러닝 알고리즘: 피처 중요도를 평가하는 머신 러닝 알고리즘을 사용하여 피처를 선택\n",
    "\n",
    "  *  피처 생성: 피처 생성은 새로운 피처를 생성\n",
    "    * 이는 모델이 데이터의 패턴을 더 잘 학습하는 데 도움.\n",
    "      * 교차 피처: 기존 피처를 결합하여 새로운 피처를 생성\n",
    "      * 주성분 분석: 기존 피처의 주성분을 추출하여 새로운 피처를 생성\n",
    "  "
   ]
  },
  {
   "cell_type": "markdown",
   "metadata": {
    "id": "db9EeJUVc7XK"
   },
   "source": [
    "## 교차 검증(Cross-Validation)\n",
    "* 교차 검증은 머신러닝 모델의 성능을 평가하는 방법 중 하나\n",
    "* 교차 검증은 데이터셋을 여러 개의 폴드(fold)로 나누고, 각 폴드를 한 번씩 평가 데이터로 사용하는 방법\n",
    "* 예를 들어, 데이터셋을 5개의 폴드로 나누고 교차 검증을 사용하여 모델의 성능을 평가하면 다음과 같다.\n",
    "  * 데이터셋을 5개의 폴드로 나눈다\n",
    "  * 첫 번째 폴드를 평가 데이터로 사용하고, 나머지 4개의 폴드를 학습 데이터로 사용하여 모델을 훈련시킨다.\n",
    "  * 훈련된 모델을 사용하여 평가 데이터에 대한 예측을 만든다.\n",
    "  * 예측과 실제 값을 비교하여 모델의 성능을 평가함\n",
    "  * 두 번째 폴드를 평가 데이터로 사용하고, 나머지 4개의 폴드를 학습 데이터로 사용하여 모델을 훈련시킴.\n",
    "  * 훈련된 모델을 사용하여 평가 데이터에 대한 예측을 만든다. 예측과 실제 값을 비교하여 모델의 성능을 평가한다.\n",
    "  * 이 과정을 모든 폴드에 대해 반복한다.\n",
    "\n",
    "* 교차 검증은 다음과 같은 장점이 있다.\n",
    "  1) 모델의 성능을 정확하게 평가할 수 있다.\n",
    "  2) 과적합을 방지할 수 있다.\n",
    "  3) 하이퍼파라미터 튜닝에 사용할 수 있다.\n",
    "\n",
    "* 교차 검증은 다음과 같은 단점이 있다.\n",
    "  * 시간이 오래 걸린다.\n",
    "  * 계산 자원이 많이 필요"
   ]
  },
  {
   "cell_type": "code",
   "execution_count": null,
   "metadata": {
    "id": "KATOYQL3e1-p"
   },
   "outputs": [],
   "source": []
  },
  {
   "cell_type": "markdown",
   "metadata": {
    "id": "2Qho82NBB2pK"
   },
   "source": [
    "* DataFrame -> Numpy Array 변환\n",
    "  * df.to_numpy()"
   ]
  },
  {
   "cell_type": "code",
   "execution_count": 2,
   "metadata": {
    "colab": {
     "base_uri": "https://localhost:8080/"
    },
    "executionInfo": {
     "elapsed": 307,
     "status": "ok",
     "timestamp": 1715637515377,
     "user": {
      "displayName": "김유희",
      "userId": "00390714496880607784"
     },
     "user_tz": -540
    },
    "id": "Sj9M6wgUGfra",
    "outputId": "4a05ec39-5076-499a-afdf-f86ba416e905"
   },
   "outputs": [
    {
     "name": "stdout",
     "output_type": "stream",
     "text": [
      "   x0    x1    y\n",
      "0   1  0.01 -1.5\n",
      "1   2 -0.01  0.0\n",
      "2   3  0.25  3.6\n",
      "3   4 -4.10  1.3\n",
      "4   5  0.00 -2.0\n",
      "\n",
      "[[ 1.    0.01 -1.5 ]\n",
      " [ 2.   -0.01  0.  ]\n",
      " [ 3.    0.25  3.6 ]\n",
      " [ 4.   -4.1   1.3 ]\n",
      " [ 5.    0.   -2.  ]]\n",
      "<class 'numpy.ndarray'>\n"
     ]
    }
   ],
   "source": [
    "# ex\n",
    "data = pd.DataFrame({\n",
    "    'x0': [1, 2, 3, 4, 5],\n",
    "    'x1': [0.01, -0.01, 0.25, -4.1, 0.],\n",
    "    'y': [-1.5, 0., 3.6, 1.3, -2.]})\n",
    "print(data)\n",
    "print()\n",
    "print(data.to_numpy())\n",
    "print(type(data.to_numpy())) #numpy 객체는 한 가지 데이터타입(모두 숫자형)으로 구성\n",
    "# ndarray : 차원(5,3 )"
   ]
  },
  {
   "cell_type": "code",
   "execution_count": null,
   "metadata": {
    "id": "CKnE7DnaSk-2"
   },
   "outputs": [],
   "source": []
  },
  {
   "cell_type": "markdown",
   "metadata": {
    "id": "eqQ7q0aJCd3J"
   },
   "source": [
    "* Numpy array -> DataFrame (Next class!! 5/22)"
   ]
  },
  {
   "cell_type": "code",
   "execution_count": 3,
   "metadata": {
    "colab": {
     "base_uri": "https://localhost:8080/",
     "height": 206
    },
    "executionInfo": {
     "elapsed": 289,
     "status": "ok",
     "timestamp": 1715637521837,
     "user": {
      "displayName": "김유희",
      "userId": "00390714496880607784"
     },
     "user_tz": -540
    },
    "id": "XzEEMehBGfrb",
    "outputId": "be7539a4-ddcf-44b1-8f22-78a62644ed21"
   },
   "outputs": [
    {
     "data": {
      "text/html": [
       "<div>\n",
       "<style scoped>\n",
       "    .dataframe tbody tr th:only-of-type {\n",
       "        vertical-align: middle;\n",
       "    }\n",
       "\n",
       "    .dataframe tbody tr th {\n",
       "        vertical-align: top;\n",
       "    }\n",
       "\n",
       "    .dataframe thead th {\n",
       "        text-align: right;\n",
       "    }\n",
       "</style>\n",
       "<table border=\"1\" class=\"dataframe\">\n",
       "  <thead>\n",
       "    <tr style=\"text-align: right;\">\n",
       "      <th></th>\n",
       "      <th>one</th>\n",
       "      <th>two</th>\n",
       "      <th>three</th>\n",
       "    </tr>\n",
       "  </thead>\n",
       "  <tbody>\n",
       "    <tr>\n",
       "      <th>0</th>\n",
       "      <td>1.0</td>\n",
       "      <td>0.01</td>\n",
       "      <td>-1.5</td>\n",
       "    </tr>\n",
       "    <tr>\n",
       "      <th>1</th>\n",
       "      <td>2.0</td>\n",
       "      <td>-0.01</td>\n",
       "      <td>0.0</td>\n",
       "    </tr>\n",
       "    <tr>\n",
       "      <th>2</th>\n",
       "      <td>3.0</td>\n",
       "      <td>0.25</td>\n",
       "      <td>3.6</td>\n",
       "    </tr>\n",
       "    <tr>\n",
       "      <th>3</th>\n",
       "      <td>4.0</td>\n",
       "      <td>-4.10</td>\n",
       "      <td>1.3</td>\n",
       "    </tr>\n",
       "    <tr>\n",
       "      <th>4</th>\n",
       "      <td>5.0</td>\n",
       "      <td>0.00</td>\n",
       "      <td>-2.0</td>\n",
       "    </tr>\n",
       "  </tbody>\n",
       "</table>\n",
       "</div>"
      ],
      "text/plain": [
       "   one   two  three\n",
       "0  1.0  0.01   -1.5\n",
       "1  2.0 -0.01    0.0\n",
       "2  3.0  0.25    3.6\n",
       "3  4.0 -4.10    1.3\n",
       "4  5.0  0.00   -2.0"
      ]
     },
     "execution_count": 3,
     "metadata": {},
     "output_type": "execute_result"
    }
   ],
   "source": [
    "# ex\n",
    "df2 = pd.DataFrame(data.to_numpy(), columns=['one', 'two', 'three'])\n",
    "df2"
   ]
  },
  {
   "cell_type": "markdown",
   "metadata": {
    "id": "C76TYgPTHJj9"
   },
   "source": [
    "* 전체 넘파이 ndarray에서 일부 배열만 선택"
   ]
  },
  {
   "cell_type": "code",
   "execution_count": 13,
   "metadata": {
    "colab": {
     "base_uri": "https://localhost:8080/"
    },
    "executionInfo": {
     "elapsed": 287,
     "status": "ok",
     "timestamp": 1715637530650,
     "user": {
      "displayName": "김유희",
      "userId": "00390714496880607784"
     },
     "user_tz": -540
    },
    "id": "q8g1oxe7uiH2",
    "outputId": "940839d8-3cad-4d76-c6ce-f1b6191c1573"
   },
   "outputs": [
    {
     "name": "stdout",
     "output_type": "stream",
     "text": [
      "[[ 1.    0.01 -1.5 ]\n",
      " [ 2.   -0.01  0.  ]\n",
      " [ 3.    0.25  3.6 ]\n",
      " [ 4.   -4.1   1.3 ]\n",
      " [ 5.    0.   -2.  ]]\n",
      "[[ 1.    0.01]\n",
      " [ 2.   -0.01]\n",
      " [ 3.    0.25]\n",
      " [ 4.   -4.1 ]\n",
      " [ 5.    0.  ]]\n",
      "<class 'numpy.ndarray'>\n",
      "[-1.5  0.   3.6  1.3 -2. ]\n",
      "<class 'numpy.ndarray'>\n"
     ]
    }
   ],
   "source": [
    "# ex\n",
    "df3 = data.copy() #복사\n",
    "print(df3.to_numpy()) # 파이썬 객체  ndarray\n",
    "\n",
    "# 독립변수 x설정\n",
    "df_X = df3.to_numpy()[:, :2]\n",
    "print(df_X)\n",
    "print(type(df_X))\n",
    "\n",
    "# 종속변수 y설정\n",
    "df_y = df3.to_numpy()[:, -1]\n",
    "print(df_y)\n",
    "print(type(df_y))"
   ]
  },
  {
   "cell_type": "code",
   "execution_count": 14,
   "metadata": {
    "colab": {
     "base_uri": "https://localhost:8080/"
    },
    "executionInfo": {
     "elapsed": 275,
     "status": "ok",
     "timestamp": 1715637534954,
     "user": {
      "displayName": "김유희",
      "userId": "00390714496880607784"
     },
     "user_tz": -540
    },
    "id": "o56c3nn5vQMv",
    "outputId": "5a4c4650-d50b-4e9f-fd81-a2e4f280c022"
   },
   "outputs": [
    {
     "name": "stdout",
     "output_type": "stream",
     "text": [
      "[-1.5  0.   3.6  1.3 -2. ]\n",
      "<class 'numpy.ndarray'>\n"
     ]
    }
   ],
   "source": [
    "df_y = df3.to_numpy()[:, -1]\n",
    "print(df_y)\n",
    "print(type(df_y))"
   ]
  },
  {
   "cell_type": "markdown",
   "metadata": {
    "id": "MXX7L3ThJPys"
   },
   "source": [
    "# 7.5 범주형 데이터(p.325)"
   ]
  },
  {
   "cell_type": "markdown",
   "metadata": {
    "id": "-ZDPyFxZOOoo"
   },
   "source": [
    "* 모델링을 위한 더미 변수 생성하기\n",
    "  * 통계나 머신러닝 도구를 사용하다 보면 범주형 데이터를 원-핫 인코딩(one-hot encoding)이라고 부르는 더미 변수(가변수, dummy variable)로 변환\n",
    "  * 범주를 열로 갖는 DataFrame을 생성하는데, 각 열에는 해당 범주의 발생 여부에 따라 0과 1의 값을 갖는다."
   ]
  },
  {
   "cell_type": "markdown",
   "metadata": {
    "id": "1QDaXnOlRnnp"
   },
   "source": [
    "* pd.Categorical() 함수\n",
    "  *  판다스 시리즈나 데이터프레임에서 범주형 데이터 타입을 생성하는 데 사용\n",
    "  "
   ]
  },
  {
   "cell_type": "code",
   "execution_count": 15,
   "metadata": {
    "colab": {
     "base_uri": "https://localhost:8080/",
     "height": 206
    },
    "executionInfo": {
     "elapsed": 299,
     "status": "ok",
     "timestamp": 1715637543315,
     "user": {
      "displayName": "김유희",
      "userId": "00390714496880607784"
     },
     "user_tz": -540
    },
    "id": "QKXxXYfbGfrc",
    "outputId": "dca3efbb-cdd7-4c3f-af76-bfe38132a4d8"
   },
   "outputs": [
    {
     "data": {
      "text/html": [
       "<div>\n",
       "<style scoped>\n",
       "    .dataframe tbody tr th:only-of-type {\n",
       "        vertical-align: middle;\n",
       "    }\n",
       "\n",
       "    .dataframe tbody tr th {\n",
       "        vertical-align: top;\n",
       "    }\n",
       "\n",
       "    .dataframe thead th {\n",
       "        text-align: right;\n",
       "    }\n",
       "</style>\n",
       "<table border=\"1\" class=\"dataframe\">\n",
       "  <thead>\n",
       "    <tr style=\"text-align: right;\">\n",
       "      <th></th>\n",
       "      <th>x0</th>\n",
       "      <th>x1</th>\n",
       "      <th>y</th>\n",
       "      <th>category</th>\n",
       "    </tr>\n",
       "  </thead>\n",
       "  <tbody>\n",
       "    <tr>\n",
       "      <th>0</th>\n",
       "      <td>1</td>\n",
       "      <td>0.01</td>\n",
       "      <td>-1.5</td>\n",
       "      <td>a</td>\n",
       "    </tr>\n",
       "    <tr>\n",
       "      <th>1</th>\n",
       "      <td>2</td>\n",
       "      <td>-0.01</td>\n",
       "      <td>0.0</td>\n",
       "      <td>b</td>\n",
       "    </tr>\n",
       "    <tr>\n",
       "      <th>2</th>\n",
       "      <td>3</td>\n",
       "      <td>0.25</td>\n",
       "      <td>3.6</td>\n",
       "      <td>a</td>\n",
       "    </tr>\n",
       "    <tr>\n",
       "      <th>3</th>\n",
       "      <td>4</td>\n",
       "      <td>-4.10</td>\n",
       "      <td>1.3</td>\n",
       "      <td>a</td>\n",
       "    </tr>\n",
       "    <tr>\n",
       "      <th>4</th>\n",
       "      <td>5</td>\n",
       "      <td>0.00</td>\n",
       "      <td>-2.0</td>\n",
       "      <td>b</td>\n",
       "    </tr>\n",
       "  </tbody>\n",
       "</table>\n",
       "</div>"
      ],
      "text/plain": [
       "   x0    x1    y category\n",
       "0   1  0.01 -1.5        a\n",
       "1   2 -0.01  0.0        b\n",
       "2   3  0.25  3.6        a\n",
       "3   4 -4.10  1.3        a\n",
       "4   5  0.00 -2.0        b"
      ]
     },
     "execution_count": 15,
     "metadata": {},
     "output_type": "execute_result"
    }
   ],
   "source": [
    "# ex\n",
    "data = pd.DataFrame({\n",
    "    'x0': [1, 2, 3, 4, 5],\n",
    "    'x1': [0.01, -0.01, 0.25, -4.1, 0.],\n",
    "    'y': [-1.5, 0., 3.6, 1.3, -2.]})\n",
    "\n",
    "data['category'] = pd.Categorical(['a', 'b', 'a', 'a', 'b'],\n",
    "                                  categories=['a', 'b'])\n",
    "data"
   ]
  },
  {
   "cell_type": "markdown",
   "metadata": {
    "id": "m_0bcUW3SqLg"
   },
   "source": [
    "* pd.get_dummies() 함수\n",
    "  * 판다스에서 범주형 데이터를 원-핫 인코딩된 피처로 변환하는 데 사용.\n",
    "  * 원-핫 인코딩은 범주형 데이터를 일련의 이진 피처로 나타내는 기술  \n",
    "  * 인자\n",
    "    * prefix: 이 옵션은 원-핫 인코딩된 피처 이름에 사용할 접두사를 지정 \n",
    "\n",
    "* 원-핫 인코딩은 다음과 같은 다양한 작업에 유용.\n",
    "  * 머신러닝: 원-핫 인코딩된 피처를 사용하여 머신러닝 모델을 학습할 수 있다.\n",
    "  * 데이터 분석: 원-핫 인코딩된 피처를 사용하여 범주형 데이터에 대한 통계 분석을 수행할 수 있다.\n",
    "  * 데이터 시각화: 원-핫 인코딩된 피처를 사용하여 정보성이 풍부하고 시각적으로 매력적인 시각화를 만들 수 있다.\n",
    "  "
   ]
  },
  {
   "cell_type": "code",
   "execution_count": 16,
   "metadata": {
    "colab": {
     "base_uri": "https://localhost:8080/",
     "height": 333
    },
    "executionInfo": {
     "elapsed": 282,
     "status": "ok",
     "timestamp": 1715637554597,
     "user": {
      "displayName": "김유희",
      "userId": "00390714496880607784"
     },
     "user_tz": -540
    },
    "id": "qvODX9oNGfrd",
    "outputId": "b7bf9045-4131-408b-ee1f-dcdf0c732f48"
   },
   "outputs": [
    {
     "name": "stdout",
     "output_type": "stream",
     "text": [
      "   category_a  category_b\n",
      "0         1.0         0.0\n",
      "1         0.0         1.0\n",
      "2         1.0         0.0\n",
      "3         1.0         0.0\n",
      "4         0.0         1.0\n",
      "\n"
     ]
    },
    {
     "data": {
      "text/html": [
       "<div>\n",
       "<style scoped>\n",
       "    .dataframe tbody tr th:only-of-type {\n",
       "        vertical-align: middle;\n",
       "    }\n",
       "\n",
       "    .dataframe tbody tr th {\n",
       "        vertical-align: top;\n",
       "    }\n",
       "\n",
       "    .dataframe thead th {\n",
       "        text-align: right;\n",
       "    }\n",
       "</style>\n",
       "<table border=\"1\" class=\"dataframe\">\n",
       "  <thead>\n",
       "    <tr style=\"text-align: right;\">\n",
       "      <th></th>\n",
       "      <th>x0</th>\n",
       "      <th>x1</th>\n",
       "      <th>y</th>\n",
       "      <th>category_a</th>\n",
       "      <th>category_b</th>\n",
       "    </tr>\n",
       "  </thead>\n",
       "  <tbody>\n",
       "    <tr>\n",
       "      <th>0</th>\n",
       "      <td>1</td>\n",
       "      <td>0.01</td>\n",
       "      <td>-1.5</td>\n",
       "      <td>1.0</td>\n",
       "      <td>0.0</td>\n",
       "    </tr>\n",
       "    <tr>\n",
       "      <th>1</th>\n",
       "      <td>2</td>\n",
       "      <td>-0.01</td>\n",
       "      <td>0.0</td>\n",
       "      <td>0.0</td>\n",
       "      <td>1.0</td>\n",
       "    </tr>\n",
       "    <tr>\n",
       "      <th>2</th>\n",
       "      <td>3</td>\n",
       "      <td>0.25</td>\n",
       "      <td>3.6</td>\n",
       "      <td>1.0</td>\n",
       "      <td>0.0</td>\n",
       "    </tr>\n",
       "    <tr>\n",
       "      <th>3</th>\n",
       "      <td>4</td>\n",
       "      <td>-4.10</td>\n",
       "      <td>1.3</td>\n",
       "      <td>1.0</td>\n",
       "      <td>0.0</td>\n",
       "    </tr>\n",
       "    <tr>\n",
       "      <th>4</th>\n",
       "      <td>5</td>\n",
       "      <td>0.00</td>\n",
       "      <td>-2.0</td>\n",
       "      <td>0.0</td>\n",
       "      <td>1.0</td>\n",
       "    </tr>\n",
       "  </tbody>\n",
       "</table>\n",
       "</div>"
      ],
      "text/plain": [
       "   x0    x1    y  category_a  category_b\n",
       "0   1  0.01 -1.5         1.0         0.0\n",
       "1   2 -0.01  0.0         0.0         1.0\n",
       "2   3  0.25  3.6         1.0         0.0\n",
       "3   4 -4.10  1.3         1.0         0.0\n",
       "4   5  0.00 -2.0         0.0         1.0"
      ]
     },
     "execution_count": 16,
     "metadata": {},
     "output_type": "execute_result"
    }
   ],
   "source": [
    "dummies = pd.get_dummies(data.category, prefix='category',\n",
    "                         dtype=float)\n",
    "print(dummies)\n",
    "print()\n",
    "\n",
    "data_with_dummies = pd.concat([data.drop('category', axis=1), dummies], axis =1)\n",
    "\n",
    "data_with_dummies"
   ]
  },
  {
   "cell_type": "markdown",
   "metadata": {
    "id": "VR39TonHXu1D"
   },
   "source": [
    "## 12.3 statsmodels 소개\n",
    "* https://www.statsmodels.org\n",
    "* 다양한 종류의 통계 모델 피팅, 통계 테스트 수행, 데이터 탐색, 시각화를 위한 파이썬 라이브러리\n",
    "* pip install statsmodels\n",
    "* import statsmodels.api as sm\n",
    "* import statsmodels.formula.api as smf\n",
    "* statsmodels 모델\n",
    "  * 선형 모델, 일반 선형 모델, 로버스트 선형 모델\n",
    "  * 선형 혼합 효과 모델\n",
    "  * 분산분석ANOVA 메서드\n",
    "  * 시계열 처리 및 상태공간 모델\n",
    "  "
   ]
  },
  {
   "cell_type": "code",
   "execution_count": 17,
   "metadata": {
    "colab": {
     "base_uri": "https://localhost:8080/"
    },
    "executionInfo": {
     "elapsed": 8321,
     "status": "ok",
     "timestamp": 1715637572844,
     "user": {
      "displayName": "김유희",
      "userId": "00390714496880607784"
     },
     "user_tz": -540
    },
    "id": "Q4jfHaSuXuPq",
    "outputId": "63468724-fde4-4e05-a959-331544970aa3"
   },
   "outputs": [
    {
     "name": "stdout",
     "output_type": "stream",
     "text": [
      "Requirement already satisfied: statsmodels in c:\\users\\hyung\\onedrive\\바탕 화면\\python_basic_2\\venv\\lib\\site-packages (0.14.1)\n",
      "Requirement already satisfied: numpy<2,>=1.18 in c:\\users\\hyung\\onedrive\\바탕 화면\\python_basic_2\\venv\\lib\\site-packages (from statsmodels) (1.26.4)\n",
      "Requirement already satisfied: scipy!=1.9.2,>=1.4 in c:\\users\\hyung\\onedrive\\바탕 화면\\python_basic_2\\venv\\lib\\site-packages (from statsmodels) (1.13.0)\n",
      "Requirement already satisfied: pandas!=2.1.0,>=1.0 in c:\\users\\hyung\\onedrive\\바탕 화면\\python_basic_2\\venv\\lib\\site-packages (from statsmodels) (2.2.1)\n",
      "Requirement already satisfied: patsy>=0.5.4 in c:\\users\\hyung\\onedrive\\바탕 화면\\python_basic_2\\venv\\lib\\site-packages (from statsmodels) (0.5.6)\n",
      "Requirement already satisfied: packaging>=21.3 in c:\\users\\hyung\\onedrive\\바탕 화면\\python_basic_2\\venv\\lib\\site-packages (from statsmodels) (24.0)\n",
      "Requirement already satisfied: python-dateutil>=2.8.2 in c:\\users\\hyung\\onedrive\\바탕 화면\\python_basic_2\\venv\\lib\\site-packages (from pandas!=2.1.0,>=1.0->statsmodels) (2.9.0.post0)\n",
      "Requirement already satisfied: pytz>=2020.1 in c:\\users\\hyung\\onedrive\\바탕 화면\\python_basic_2\\venv\\lib\\site-packages (from pandas!=2.1.0,>=1.0->statsmodels) (2024.1)\n",
      "Requirement already satisfied: tzdata>=2022.7 in c:\\users\\hyung\\onedrive\\바탕 화면\\python_basic_2\\venv\\lib\\site-packages (from pandas!=2.1.0,>=1.0->statsmodels) (2024.1)\n",
      "Requirement already satisfied: six in c:\\users\\hyung\\onedrive\\바탕 화면\\python_basic_2\\venv\\lib\\site-packages (from patsy>=0.5.4->statsmodels) (1.16.0)\n"
     ]
    }
   ],
   "source": [
    "# 라이브러리 설치\n",
    "!pip install statsmodels"
   ]
  },
  {
   "cell_type": "markdown",
   "metadata": {
    "id": "3nFtbdwlZabe"
   },
   "source": [
    "### 12.3.1 선형 회귀 모델 예측하기 : OLS\n",
    "* 선형 회귀 모델 알고리즘 :  최소제곱법(OLS; Ordinary Least Squares)\n",
    "* API 모듈 임포트해 사용"
   ]
  },
  {
   "cell_type": "code",
   "execution_count": 21,
   "metadata": {
    "executionInfo": {
     "elapsed": 2103,
     "status": "ok",
     "timestamp": 1715637854762,
     "user": {
      "displayName": "김유희",
      "userId": "00390714496880607784"
     },
     "user_tz": -540
    },
    "id": "Zitokn-EaJPf"
   },
   "outputs": [],
   "source": [
    "import statsmodels.api as sm\n",
    "import statsmodels.formula.api as smf"
   ]
  },
  {
   "cell_type": "markdown",
   "metadata": {
    "id": "B8IUtEz_zlJP"
   },
   "source": [
    "* np.c_[a1, a2, ..., aN]\n",
    "  * 여러 개의 배열을 하나의 배열로 결합해야 하는 경우\n"
   ]
  },
  {
   "cell_type": "code",
   "execution_count": 23,
   "metadata": {
    "colab": {
     "base_uri": "https://localhost:8080/"
    },
    "executionInfo": {
     "elapsed": 306,
     "status": "ok",
     "timestamp": 1715637861195,
     "user": {
      "displayName": "김유희",
      "userId": "00390714496880607784"
     },
     "user_tz": -540
    },
    "id": "sgnRMDXR0Cqt",
    "outputId": "f6c468ff-9e0d-45f4-b22b-a1f988491f96"
   },
   "outputs": [
    {
     "name": "stdout",
     "output_type": "stream",
     "text": [
      "(1, 2)\n",
      "[[1 2]]\n"
     ]
    }
   ],
   "source": [
    "#ex : 데이터 생성\n",
    "a = np.array([[1, 2]]) #(1,2) -> \n",
    "print(a.shape) #(1, 2)\n",
    "print(a)\n",
    "\n",
    "b = np.array([[5, 6]])\n",
    "\n",
    "c = np.c_[a,b]\n",
    "print(c)\n"
   ]
  },
  {
   "cell_type": "markdown",
   "metadata": {
    "id": "V0F0p1N34HIl"
   },
   "source": [
    "* np.dot(A, B) 함수\n",
    "  * 두 개의 벡터를 곱하여 내적을 계산할 때\n",
    "  * 두 개의 행렬을 곱하여 행렬 곱셈을 수행할 때\n",
    "  * 행렬과 벡터를 곱하여 행렬-벡터 곱셈을 수행할 때"
   ]
  },
  {
   "cell_type": "code",
   "execution_count": null,
   "metadata": {
    "colab": {
     "base_uri": "https://localhost:8080/"
    },
    "executionInfo": {
     "elapsed": 280,
     "status": "ok",
     "timestamp": 1715637864561,
     "user": {
      "displayName": "김유희",
      "userId": "00390714496880607784"
     },
     "user_tz": -540
    },
    "id": "Lq0xeYKX4m4p",
    "outputId": "78c4b1b4-dcfe-42df-f922-207c6ace4341"
   },
   "outputs": [],
   "source": [
    "# 두 개의 벡터를 곱하여 내적을 계산\n",
    "a = np.array([1, 2])\n",
    "b = np.array([3, 4])\n",
    "c = np.dot(a, b) # elementwise multiplication\n",
    "print(c)  # 출력: 11 = 1*3 + 2*4\n",
    "\n",
    "# 두 개의 행렬을 곱하여 행렬 곱셈을 수행\n",
    "a = np.array([[1, 2], [3, 4]])\n",
    "b = np.array([[5, 6], [7, 8]])\n",
    "c = np.dot(a, b)\n",
    "print(c)  # 출력: [[19 22]\n",
    "         # [43 50]]\n",
    "\n",
    "# 행렬과 벡터를 곱하여 행렬-벡터 곱셈을 수행\n",
    "a = np.array([[1, 2], [3, 4]])\n",
    "b = np.array([5, 6])\n",
    "c = np.dot(a, b)\n",
    "print(c)  # 출력: [17 39]"
   ]
  },
  {
   "cell_type": "markdown",
   "metadata": {
    "id": "QWx0p2tE2xFl"
   },
   "source": [
    "### [예제] p.541\n",
    "* 무작위 데이터로 선형 회귀 모델 생성"
   ]
  },
  {
   "cell_type": "code",
   "execution_count": 27,
   "metadata": {
    "colab": {
     "base_uri": "https://localhost:8080/"
    },
    "executionInfo": {
     "elapsed": 281,
     "status": "ok",
     "timestamp": 1715637870693,
     "user": {
      "displayName": "김유희",
      "userId": "00390714496880607784"
     },
     "user_tz": -540
    },
    "id": "sEsBQNbIGfrg",
    "outputId": "53713072-97c5-4a30-a1cf-ea3e80f732c3"
   },
   "outputs": [
    {
     "data": {
      "text/plain": [
       "(100,)"
      ]
     },
     "execution_count": 27,
     "metadata": {},
     "output_type": "execute_result"
    }
   ],
   "source": [
    "# 1. Numpy data 생성\n",
    "# 시드를 설정하면 난수 생성기가 항상 같은 순서로 난수를 생성\n",
    "rng = np.random.RandomState(12345)\n",
    "\n",
    "def dnorm(mean, variance, size=1): #정규 분포에서 난수를  생성하는 helper 함수\n",
    "    if isinstance(size, int):\n",
    "        size = size,\n",
    "    return mean + np.sqrt(variance) * rng.standard_normal(*size)\n",
    "\n",
    "N = 100\n",
    "# 3개의 features과 100개의 행으로 구성된 행렬 X\n",
    "X = np.c_[dnorm(0, 0.4, size=N),\n",
    "          dnorm(0, 0.6, size=N),\n",
    "          dnorm(0, 0.2, size=N)]\n",
    "\n",
    "eps = dnorm(0, 0.1, size=N)\n",
    "\n",
    "W = [0.1, 0.3, 0.5]\n",
    "\n",
    "# 선형 회귀 모델을 생성.\n",
    "# X 행렬은 독립 변수이고, y 변수는 종속 변수이며, W 리스트는 회귀 계수\n",
    "# eps는 오차항\n",
    "y = np.dot(X,W) + eps\n",
    "\n",
    "X[:10], y[:10]\n",
    "X.shape\n",
    "y.shape"
   ]
  },
  {
   "cell_type": "code",
   "execution_count": 26,
   "metadata": {
    "colab": {
     "base_uri": "https://localhost:8080/"
    },
    "executionInfo": {
     "elapsed": 290,
     "status": "ok",
     "timestamp": 1715637877198,
     "user": {
      "displayName": "김유희",
      "userId": "00390714496880607784"
     },
     "user_tz": -540
    },
    "id": "Ya1_D7P429NA",
    "outputId": "95594f01-8a2c-48db-9d93-a49ce19f5d85"
   },
   "outputs": [
    {
     "name": "stdout",
     "output_type": "stream",
     "text": [
      "(100,)\n"
     ]
    }
   ],
   "source": [
    "dnorm(0, 0.4, size=N).shape  # (100,)\n",
    "X.shape # (100, 3)\n",
    "print(y.shape) #(100,)"
   ]
  },
  {
   "cell_type": "code",
   "execution_count": 34,
   "metadata": {
    "colab": {
     "base_uri": "https://localhost:8080/"
    },
    "executionInfo": {
     "elapsed": 270,
     "status": "ok",
     "timestamp": 1715637881865,
     "user": {
      "displayName": "김유희",
      "userId": "00390714496880607784"
     },
     "user_tz": -540
    },
    "id": "mu-SUptPGfrg",
    "outputId": "5c7337a8-db60-423e-9d5d-6f74b095b209"
   },
   "outputs": [],
   "source": [
    "import statsmodels.api as sm\n",
    "\n",
    "#2. 최소제곱법 선형회귀 모형 선택\n",
    "# 기존 행렬  X에  Intercept열을 더하기\n",
    "dfX = sm.add_constant(X)  \n",
    "# sm.OLS클래스을 이용하여 최소제곱법 선형회귀 모형 선택\n",
    "model_1 = sm.OLS(y, dfX)\n"
   ]
  },
  {
   "cell_type": "code",
   "execution_count": 36,
   "metadata": {
    "executionInfo": {
     "elapsed": 4,
     "status": "ok",
     "timestamp": 1715637889651,
     "user": {
      "displayName": "김유희",
      "userId": "00390714496880607784"
     },
     "user_tz": -540
    },
    "id": "_6kKfoFhGfrg"
   },
   "outputs": [],
   "source": [
    "# 3. 모형학습\n",
    "# fit 메서드로 모형 추정. \n",
    "results_1 = model_1.fit() #추정 결과는 별도의 RegressionResults 클래스 객체로 반환"
   ]
  },
  {
   "cell_type": "code",
   "execution_count": 32,
   "metadata": {
    "colab": {
     "base_uri": "https://localhost:8080/"
    },
    "executionInfo": {
     "elapsed": 4,
     "status": "ok",
     "timestamp": 1715637891369,
     "user": {
      "displayName": "김유희",
      "userId": "00390714496880607784"
     },
     "user_tz": -540
    },
    "id": "J9rOMcfD_sY3",
    "outputId": "439e5d2c-974d-48d2-dd6e-f1a605d78530"
   },
   "outputs": [
    {
     "data": {
      "text/plain": [
       "array([0.03355856, 0.17614872, 0.22482596, 0.51480793])"
      ]
     },
     "execution_count": 32,
     "metadata": {},
     "output_type": "execute_result"
    }
   ],
   "source": [
    "# 선형회귀 모형의 가중치\n",
    "results_1.params"
   ]
  },
  {
   "cell_type": "code",
   "execution_count": 38,
   "metadata": {
    "colab": {
     "base_uri": "https://localhost:8080/"
    },
    "executionInfo": {
     "elapsed": 399,
     "status": "ok",
     "timestamp": 1715637895075,
     "user": {
      "displayName": "김유희",
      "userId": "00390714496880607784"
     },
     "user_tz": -540
    },
    "id": "gsynmFonCyqB",
    "outputId": "36f716dd-005e-4763-d6dc-c05978457b4c"
   },
   "outputs": [
    {
     "data": {
      "text/plain": [
       "array([ 0.43019002, -0.53157637, -0.13210322, -0.1664243 , -0.02840651,\n",
       "       -0.03754865,  0.46172675, -0.70512128, -0.389283  , -0.15206959,\n",
       "        0.20864465,  0.34362112, -0.02547815, -0.01584662, -0.06613965,\n",
       "       -0.2466684 ,  0.19473711, -0.15368098,  0.58982577,  0.33899167,\n",
       "       -0.1691334 ,  0.09391862,  0.4987464 ,  0.02527616, -0.32014206,\n",
       "        0.04915143,  0.36285141, -0.540397  , -0.10114742, -0.32726104,\n",
       "       -0.03178383, -0.55984678, -0.18878223,  0.93075193, -0.17960056,\n",
       "       -0.24987463,  0.3117442 , -0.43263393,  0.19448595,  0.3020141 ,\n",
       "        0.2524745 , -0.20284954, -0.22311886,  0.45762566,  0.06346702,\n",
       "        0.31163719,  0.13098709, -0.16721826, -0.0315735 , -0.41857237,\n",
       "       -0.14416471, -0.36271356,  0.2998745 ,  0.02668502,  0.32294591,\n",
       "        0.23281806, -0.11602075, -0.24802696, -0.21042468,  0.3685663 ,\n",
       "        0.05235366, -0.00861223,  0.17831809, -0.31761102, -0.19729082,\n",
       "        0.51594113, -0.54648787, -0.17896167,  0.50498212,  0.01602919,\n",
       "       -0.61695647, -0.4508336 ,  0.49670112,  0.03147411, -0.10512888,\n",
       "       -0.20621619, -0.19891047,  0.00147043, -0.38570114,  0.61371579,\n",
       "        0.11022161, -0.05741333, -0.41710083, -0.25487644,  0.68190227,\n",
       "       -0.01649036,  0.55013456, -0.61916417, -0.28939594,  0.0779589 ,\n",
       "       -0.048947  ,  1.05923045, -0.05171321,  0.15180318, -0.10874947,\n",
       "        0.02413913, -0.3282367 ,  0.33361598, -0.03143233,  0.10811271])"
      ]
     },
     "execution_count": 38,
     "metadata": {},
     "output_type": "execute_result"
    }
   ],
   "source": [
    "#선형회귀 모형의 오차\n",
    "results_1.resid # 100개"
   ]
  },
  {
   "cell_type": "code",
   "execution_count": 39,
   "metadata": {
    "colab": {
     "base_uri": "https://localhost:8080/"
    },
    "executionInfo": {
     "elapsed": 270,
     "status": "ok",
     "timestamp": 1715637899478,
     "user": {
      "displayName": "김유희",
      "userId": "00390714496880607784"
     },
     "user_tz": -540
    },
    "id": "PyReiOyxGfrg",
    "outputId": "e6a47bf9-94e7-4613-accc-e896ef1e2b1e"
   },
   "outputs": [
    {
     "data": {
      "text/html": [
       "<table class=\"simpletable\">\n",
       "<caption>OLS Regression Results</caption>\n",
       "<tr>\n",
       "  <th>Dep. Variable:</th>            <td>y</td>        <th>  R-squared:         </th> <td>   0.435</td>\n",
       "</tr>\n",
       "<tr>\n",
       "  <th>Model:</th>                   <td>OLS</td>       <th>  Adj. R-squared:    </th> <td>   0.418</td>\n",
       "</tr>\n",
       "<tr>\n",
       "  <th>Method:</th>             <td>Least Squares</td>  <th>  F-statistic:       </th> <td>   24.68</td>\n",
       "</tr>\n",
       "<tr>\n",
       "  <th>Date:</th>             <td>Wed, 22 May 2024</td> <th>  Prob (F-statistic):</th> <td>6.37e-12</td>\n",
       "</tr>\n",
       "<tr>\n",
       "  <th>Time:</th>                 <td>15:48:13</td>     <th>  Log-Likelihood:    </th> <td> -33.835</td>\n",
       "</tr>\n",
       "<tr>\n",
       "  <th>No. Observations:</th>      <td>   100</td>      <th>  AIC:               </th> <td>   75.67</td>\n",
       "</tr>\n",
       "<tr>\n",
       "  <th>Df Residuals:</th>          <td>    96</td>      <th>  BIC:               </th> <td>   86.09</td>\n",
       "</tr>\n",
       "<tr>\n",
       "  <th>Df Model:</th>              <td>     3</td>      <th>                     </th>     <td> </td>   \n",
       "</tr>\n",
       "<tr>\n",
       "  <th>Covariance Type:</th>      <td>nonrobust</td>    <th>                     </th>     <td> </td>   \n",
       "</tr>\n",
       "</table>\n",
       "<table class=\"simpletable\">\n",
       "<tr>\n",
       "    <td></td>       <th>coef</th>     <th>std err</th>      <th>t</th>      <th>P>|t|</th>  <th>[0.025</th>    <th>0.975]</th>  \n",
       "</tr>\n",
       "<tr>\n",
       "  <th>const</th> <td>    0.0336</td> <td>    0.035</td> <td>    0.952</td> <td> 0.343</td> <td>   -0.036</td> <td>    0.104</td>\n",
       "</tr>\n",
       "<tr>\n",
       "  <th>x1</th>    <td>    0.1761</td> <td>    0.053</td> <td>    3.320</td> <td> 0.001</td> <td>    0.071</td> <td>    0.281</td>\n",
       "</tr>\n",
       "<tr>\n",
       "  <th>x2</th>    <td>    0.2248</td> <td>    0.046</td> <td>    4.851</td> <td> 0.000</td> <td>    0.133</td> <td>    0.317</td>\n",
       "</tr>\n",
       "<tr>\n",
       "  <th>x3</th>    <td>    0.5148</td> <td>    0.082</td> <td>    6.304</td> <td> 0.000</td> <td>    0.353</td> <td>    0.677</td>\n",
       "</tr>\n",
       "</table>\n",
       "<table class=\"simpletable\">\n",
       "<tr>\n",
       "  <th>Omnibus:</th>       <td> 4.504</td> <th>  Durbin-Watson:     </th> <td>   2.223</td>\n",
       "</tr>\n",
       "<tr>\n",
       "  <th>Prob(Omnibus):</th> <td> 0.105</td> <th>  Jarque-Bera (JB):  </th> <td>   3.957</td>\n",
       "</tr>\n",
       "<tr>\n",
       "  <th>Skew:</th>          <td> 0.475</td> <th>  Prob(JB):          </th> <td>   0.138</td>\n",
       "</tr>\n",
       "<tr>\n",
       "  <th>Kurtosis:</th>      <td> 3.222</td> <th>  Cond. No.          </th> <td>    2.38</td>\n",
       "</tr>\n",
       "</table><br/><br/>Notes:<br/>[1] Standard Errors assume that the covariance matrix of the errors is correctly specified."
      ],
      "text/latex": [
       "\\begin{center}\n",
       "\\begin{tabular}{lclc}\n",
       "\\toprule\n",
       "\\textbf{Dep. Variable:}    &        y         & \\textbf{  R-squared:         } &     0.435   \\\\\n",
       "\\textbf{Model:}            &       OLS        & \\textbf{  Adj. R-squared:    } &     0.418   \\\\\n",
       "\\textbf{Method:}           &  Least Squares   & \\textbf{  F-statistic:       } &     24.68   \\\\\n",
       "\\textbf{Date:}             & Wed, 22 May 2024 & \\textbf{  Prob (F-statistic):} &  6.37e-12   \\\\\n",
       "\\textbf{Time:}             &     15:48:13     & \\textbf{  Log-Likelihood:    } &   -33.835   \\\\\n",
       "\\textbf{No. Observations:} &         100      & \\textbf{  AIC:               } &     75.67   \\\\\n",
       "\\textbf{Df Residuals:}     &          96      & \\textbf{  BIC:               } &     86.09   \\\\\n",
       "\\textbf{Df Model:}         &           3      & \\textbf{                     } &             \\\\\n",
       "\\textbf{Covariance Type:}  &    nonrobust     & \\textbf{                     } &             \\\\\n",
       "\\bottomrule\n",
       "\\end{tabular}\n",
       "\\begin{tabular}{lcccccc}\n",
       "               & \\textbf{coef} & \\textbf{std err} & \\textbf{t} & \\textbf{P$> |$t$|$} & \\textbf{[0.025} & \\textbf{0.975]}  \\\\\n",
       "\\midrule\n",
       "\\textbf{const} &       0.0336  &        0.035     &     0.952  &         0.343        &       -0.036    &        0.104     \\\\\n",
       "\\textbf{x1}    &       0.1761  &        0.053     &     3.320  &         0.001        &        0.071    &        0.281     \\\\\n",
       "\\textbf{x2}    &       0.2248  &        0.046     &     4.851  &         0.000        &        0.133    &        0.317     \\\\\n",
       "\\textbf{x3}    &       0.5148  &        0.082     &     6.304  &         0.000        &        0.353    &        0.677     \\\\\n",
       "\\bottomrule\n",
       "\\end{tabular}\n",
       "\\begin{tabular}{lclc}\n",
       "\\textbf{Omnibus:}       &  4.504 & \\textbf{  Durbin-Watson:     } &    2.223  \\\\\n",
       "\\textbf{Prob(Omnibus):} &  0.105 & \\textbf{  Jarque-Bera (JB):  } &    3.957  \\\\\n",
       "\\textbf{Skew:}          &  0.475 & \\textbf{  Prob(JB):          } &    0.138  \\\\\n",
       "\\textbf{Kurtosis:}      &  3.222 & \\textbf{  Cond. No.          } &     2.38  \\\\\n",
       "\\bottomrule\n",
       "\\end{tabular}\n",
       "%\\caption{OLS Regression Results}\n",
       "\\end{center}\n",
       "\n",
       "Notes: \\newline\n",
       " [1] Standard Errors assume that the covariance matrix of the errors is correctly specified."
      ],
      "text/plain": [
       "<class 'statsmodels.iolib.summary.Summary'>\n",
       "\"\"\"\n",
       "                            OLS Regression Results                            \n",
       "==============================================================================\n",
       "Dep. Variable:                      y   R-squared:                       0.435\n",
       "Model:                            OLS   Adj. R-squared:                  0.418\n",
       "Method:                 Least Squares   F-statistic:                     24.68\n",
       "Date:                Wed, 22 May 2024   Prob (F-statistic):           6.37e-12\n",
       "Time:                        15:48:13   Log-Likelihood:                -33.835\n",
       "No. Observations:                 100   AIC:                             75.67\n",
       "Df Residuals:                      96   BIC:                             86.09\n",
       "Df Model:                           3                                         \n",
       "Covariance Type:            nonrobust                                         \n",
       "==============================================================================\n",
       "                 coef    std err          t      P>|t|      [0.025      0.975]\n",
       "------------------------------------------------------------------------------\n",
       "const          0.0336      0.035      0.952      0.343      -0.036       0.104\n",
       "x1             0.1761      0.053      3.320      0.001       0.071       0.281\n",
       "x2             0.2248      0.046      4.851      0.000       0.133       0.317\n",
       "x3             0.5148      0.082      6.304      0.000       0.353       0.677\n",
       "==============================================================================\n",
       "Omnibus:                        4.504   Durbin-Watson:                   2.223\n",
       "Prob(Omnibus):                  0.105   Jarque-Bera (JB):                3.957\n",
       "Skew:                           0.475   Prob(JB):                        0.138\n",
       "Kurtosis:                       3.222   Cond. No.                         2.38\n",
       "==============================================================================\n",
       "\n",
       "Notes:\n",
       "[1] Standard Errors assume that the covariance matrix of the errors is correctly specified.\n",
       "\"\"\""
      ]
     },
     "execution_count": 39,
     "metadata": {},
     "output_type": "execute_result"
    }
   ],
   "source": [
    "results_1.summary() #결과 리포트용 summary 메서드"
   ]
  }
 ],
 "metadata": {
  "colab": {
   "provenance": []
  },
  "kernelspec": {
   "display_name": "Python 3 (ipykernel)",
   "language": "python",
   "name": "python3"
  },
  "language_info": {
   "codemirror_mode": {
    "name": "ipython",
    "version": 3
   },
   "file_extension": ".py",
   "mimetype": "text/x-python",
   "name": "python",
   "nbconvert_exporter": "python",
   "pygments_lexer": "ipython3",
   "version": "3.12.3"
  }
 },
 "nbformat": 4,
 "nbformat_minor": 4
}
